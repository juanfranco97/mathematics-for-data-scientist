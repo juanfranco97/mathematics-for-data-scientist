{
 "cells": [
  {
   "cell_type": "markdown",
   "metadata": {},
   "source": [
    "# Chapter 1 \n",
    "## systems of linear equations "
   ]
  },
  {
   "cell_type": "markdown",
   "metadata": {},
   "source": [
    "### What is a liner equation?  and Why is important for us?\n",
    "In our case linear equation is as simple to define as a group of variables and constants that operate between it to give us a result.\n",
    "but, this definition is to general to be more specific and a true definition of linear ecuations we have to set some rules"
   ]
  },
  {
   "cell_type": "markdown",
   "metadata": {},
   "source": [
    "1.-The only two operators that are permitted between variables, are addition and subtraction ( +, -)"
   ]
  },
  {
   "cell_type": "markdown",
   "metadata": {},
   "source": [
    "correct :\n",
    "$$ x + 3y = 7 $$"
   ]
  },
  {
   "cell_type": "markdown",
   "metadata": {},
   "source": [
    "incorrect: \n",
    "$$ x \\cdot y = 6 $$"
   ]
  },
  {
   "cell_type": "markdown",
   "metadata": {},
   "source": [
    "2.-Variables must be raised to the first power.  "
   ]
  },
  {
   "cell_type": "markdown",
   "metadata": {},
   "source": [
    "correct:\n",
    "$$ y = \\frac {1}{2} + 3z =1 $$"
   ]
  },
  {
   "cell_type": "markdown",
   "metadata": {},
   "source": [
    "incorrect: \n",
    "$$ x + 3y^{2} = 7 $$"
   ]
  },
  {
   "cell_type": "markdown",
   "metadata": {},
   "source": [
    "3.-Variables must not be arguments of trigonometric, logarithmic, exponential, etc functions."
   ]
  },
  {
   "cell_type": "markdown",
   "metadata": {},
   "source": [
    "correct:\n",
    "$$ x_1 - 2x_2 - 3x_3 + x_4 = 7 $$"
   ]
  },
  {
   "cell_type": "markdown",
   "metadata": {},
   "source": [
    "incorret:\n",
    "$$ y - sen x = 0 $$"
   ]
  },
  {
   "cell_type": "code",
   "execution_count": 4,
   "metadata": {},
   "outputs": [],
   "source": [
    "%matplotlib inline\n",
    "import matplotlib.pyplot as plt\n",
    "import numpy as np"
   ]
  },
  {
   "cell_type": "code",
   "execution_count": 8,
   "metadata": {},
   "outputs": [],
   "source": [
    "x=  np.arange(-6, 6)\n",
    "y_1 = 3*x+5\n",
    "y_2 = -x+3\n",
    "y_3 = 2*x + 1"
   ]
  },
  {
   "cell_type": "code",
   "execution_count": 10,
   "metadata": {},
   "outputs": [
    {
     "data": {
      "image/png": "[encoded data removed]",
      "text/plain": [
       "<Figure size 432x288 with 1 Axes>"
      ]
     },
     "metadata": {
      "needs_background": "light"
     },
     "output_type": "display_data"
    }
   ],
   "source": [
    "plt.figure()\n",
    "plt.plot(x, y_1)\n",
    "plt.plot(x, y_2)\n",
    "plt.plot(x, y_3)\n",
    "\n",
    "plt.xlim(-8,8)\n",
    "plt.ylim(-8,8)\n",
    "plt.title('linear equations')\n",
    "\n",
    "plt.axvline(x=0, color=\"grey\")\n",
    "plt.axhline(y=0, color=\"grey\")\n",
    "plt.show()"
   ]
  },
  {
   "cell_type": "markdown",
   "metadata": {},
   "source": [
    "## linear equation solution"
   ]
  },
  {
   "cell_type": "markdown",
   "metadata": {},
   "source": [
    "The solution of a linear equation is a succession of numbers that satisfy the equation, but what means satisfy?\n",
    "\n",
    "satisfy an equation means that this equation is true, to understand more we will see an example"
   ]
  },
  {
   "cell_type": "markdown",
   "metadata": {},
   "source": [
    "$$ 5 + x = 7 $$\n",
    "solucion:\n",
    "$$ x = 2 $$"
   ]
  },
  {
   "cell_type": "markdown",
   "metadata": {},
   "source": [
    "$ x = 2$  is the solution because 2 satisfy the ecuation $ 5 + x = 7$ "
   ]
  },
  {
   "cell_type": "code",
   "execution_count": 11,
   "metadata": {},
   "outputs": [
    {
     "data": {
      "text/plain": [
       "True"
      ]
     },
     "execution_count": 11,
     "metadata": {},
     "output_type": "execute_result"
    }
   ],
   "source": [
    " 5+2 == 7"
   ]
  },
  {
   "cell_type": "markdown",
   "metadata": {},
   "source": [
    "if we use other number that not satisfy the ecuation as an example 3"
   ]
  },
  {
   "cell_type": "code",
   "execution_count": 12,
   "metadata": {},
   "outputs": [
    {
     "data": {
      "text/plain": [
       "False"
      ]
     },
     "execution_count": 12,
     "metadata": {},
     "output_type": "execute_result"
    }
   ],
   "source": [
    "  5+3 == 7"
   ]
  },
  {
   "cell_type": "markdown",
   "metadata": {},
   "source": [
    "## linear equation system"
   ]
  },
  {
   "cell_type": "markdown",
   "metadata": {},
   "source": [
    "system of linear equation are a group of linear equation\n",
    "\n",
    "$$ x + y = 4 $$\n",
    "$$ 2x + 2y = 3 $$"
   ]
  },
  {
   "cell_type": "markdown",
   "metadata": {},
   "source": [
    "## llinear equation system solutions"
   ]
  },
  {
   "cell_type": "markdown",
   "metadata": {},
   "source": [
    "A solution of a system of linear equation is a value or values that satisfy all system's equation. "
   ]
  },
  {
   "cell_type": "markdown",
   "metadata": {},
   "source": [
    "for example: \n",
    "$$ 4x_1 - x_2 + 3x_3 = -1 $$\n",
    "$$ 3x_1  + x_2 + 9x_3 = -4 $$\n",
    "\n",
    "the solution is:\n",
    "$$ x1 = 1 $$ \n",
    "$$ x2 = 2 $$ \n",
    "$$ x3 = -1 $$"
   ]
  },
  {
   "cell_type": "markdown",
   "metadata": {},
   "source": [
    "$$ x1 = 1 $$\n",
    "$$ x2 = 8 $$\n",
    "$$ x3 = 1 $$\n",
    "\n",
    "is not a solution because only satisfy first equation"
   ]
  },
  {
   "cell_type": "code",
   "execution_count": 1,
   "metadata": {},
   "outputs": [],
   "source": [
    "def satisfy(x1,x2,x3):\n",
    "    if 4*x1 - x2 + 3*x3 == -1 and 3*x1 + x2 + 9*x3 == -4:\n",
    "        return True\n",
    "    else : \n",
    "        return False"
   ]
  },
  {
   "cell_type": "code",
   "execution_count": 2,
   "metadata": {},
   "outputs": [
    {
     "data": {
      "text/plain": [
       "True"
      ]
     },
     "execution_count": 2,
     "metadata": {},
     "output_type": "execute_result"
    }
   ],
   "source": [
    "satisfy(1,2,-1)"
   ]
  },
  {
   "cell_type": "code",
   "execution_count": 3,
   "metadata": {},
   "outputs": [
    {
     "data": {
      "text/plain": [
       "False"
      ]
     },
     "execution_count": 3,
     "metadata": {},
     "output_type": "execute_result"
    }
   ],
   "source": [
    "satisfy(1,8,1)"
   ]
  },
  {
   "cell_type": "markdown",
   "metadata": {},
   "source": [
    "Other way to undersand what is a solution of a  linear equiations sistem is the grafic method, grafic method said that solution or solutions of linear equation sisatem is the point or points where the graphic representation of equatios are in contact."
   ]
  },
  {
   "cell_type": "markdown",
   "metadata": {},
   "source": [
    "A system of linear equation have 3 differents solutions:"
   ]
  },
  {
   "cell_type": "markdown",
   "metadata": {},
   "source": [
    "1.-graph of  equations are parallels and never cantact"
   ]
  },
  {
   "cell_type": "markdown",
   "metadata": {},
   "source": [
    "There are not solutions"
   ]
  },
  {
   "cell_type": "code",
   "execution_count": 5,
   "metadata": {},
   "outputs": [],
   "source": [
    "x=  np.arange(-6, 6)\n",
    "y_1 = 4-x\n",
    "y_2 = 3-x"
   ]
  },
  {
   "cell_type": "code",
   "execution_count": 9,
   "metadata": {},
   "outputs": [
    {
     "data": {
      "image/png": "[encoded data removed]",
      "text/plain": [
       "<Figure size 432x288 with 1 Axes>"
      ]
     },
     "metadata": {
      "needs_background": "light"
     },
     "output_type": "display_data"
    }
   ],
   "source": [
    "plt.figure()\n",
    "plt.plot(x, y_1)\n",
    "plt.plot(x, y_2)\n",
    "\n",
    "plt.xlim(-10,11)\n",
    "plt.ylim(-10,11)\n",
    "plt.title('linear equations')\n",
    "\n",
    "plt.axvline(x=0, color=\"grey\")\n",
    "plt.axhline(y=0, color=\"grey\")\n",
    "plt.show()"
   ]
  },
  {
   "cell_type": "markdown",
   "metadata": {},
   "source": [
    "2.-graph of equations are perpendicular and have only one point where are in contant"
   ]
  },
  {
   "cell_type": "markdown",
   "metadata": {},
   "source": [
    "There are only one solution"
   ]
  },
  {
   "cell_type": "code",
   "execution_count": 13,
   "metadata": {},
   "outputs": [],
   "source": [
    "x=  np.arange(-6, 6)\n",
    "y_1 = 3*x+5\n",
    "y_2 = -x+3"
   ]
  },
  {
   "cell_type": "code",
   "execution_count": 14,
   "metadata": {},
   "outputs": [
    {
     "data": {
      "image/png": "[encoded data removed]",
      "text/plain": [
       "<Figure size 432x288 with 1 Axes>"
      ]
     },
     "metadata": {
      "needs_background": "light"
     },
     "output_type": "display_data"
    }
   ],
   "source": [
    "plt.figure()\n",
    "plt.plot(x, y_1)\n",
    "plt.plot(x, y_2)\n",
    "\n",
    "plt.xlim(-10,11)\n",
    "plt.ylim(-10,11)\n",
    "plt.title('linear equations')\n",
    "\n",
    "plt.axvline(x=0, color=\"grey\")\n",
    "plt.axhline(y=0, color=\"grey\")\n",
    "plt.show()"
   ]
  },
  {
   "cell_type": "markdown",
   "metadata": {},
   "source": [
    "3.-graph of equations are overlapping and there are infinity points where are in contact "
   ]
  },
  {
   "cell_type": "markdown",
   "metadata": {},
   "source": [
    "There are infinite solutions"
   ]
  },
  {
   "cell_type": "code",
   "execution_count": 19,
   "metadata": {},
   "outputs": [],
   "source": [
    "x=  np.arange(-6, 6)\n",
    "y_1 = 3*x+5\n",
    "y_2 = 3*x+5"
   ]
  },
  {
   "cell_type": "code",
   "execution_count": 20,
   "metadata": {},
   "outputs": [
    {
     "data": {
      "image/png": "[encoded data removed]",
      "text/plain": [
       "<Figure size 432x288 with 1 Axes>"
      ]
     },
     "metadata": {
      "needs_background": "light"
     },
     "output_type": "display_data"
    }
   ],
   "source": [
    "plt.figure()\n",
    "plt.plot(x, y_1)\n",
    "plt.plot(x, y_2)\n",
    "\n",
    "plt.xlim(-10,11)\n",
    "plt.ylim(-10,11)\n",
    "plt.title('linear equations')\n",
    "\n",
    "plt.axvline(x=0, color=\"grey\")\n",
    "plt.axhline(y=0, color=\"grey\")\n",
    "plt.show()"
   ]
  }
 ],
 "metadata": {
  "kernelspec": {
   "display_name": "Python 3",
   "language": "python",
   "name": "python3"
  },
  "language_info": {
   "codemirror_mode": {
    "name": "ipython",
    "version": 3
   },
   "file_extension": ".py",
   "mimetype": "text/x-python",
   "name": "python",
   "nbconvert_exporter": "python",
   "pygments_lexer": "ipython3",
   "version": "3.7.6"
  }
 },
 "nbformat": 4,
 "nbformat_minor": 4
}
